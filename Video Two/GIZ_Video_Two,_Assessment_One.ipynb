{
  "nbformat": 4,
  "nbformat_minor": 0,
  "metadata": {
    "colab": {
      "name": "GIZ: Video Two, Assessment One.ipynb",
      "provenance": []
    },
    "kernelspec": {
      "display_name": "Python 3",
      "language": "python",
      "name": "python3"
    },
    "language_info": {
      "codemirror_mode": {
        "name": "ipython",
        "version": 3
      },
      "file_extension": ".py",
      "mimetype": "text/x-python",
      "name": "python",
      "nbconvert_exporter": "python",
      "pygments_lexer": "ipython3",
      "version": "3.7.6"
    }
  },
  "cells": [
    {
      "cell_type": "markdown",
      "metadata": {
        "id": "73TT0ajYuhZR"
      },
      "source": [
        "# How to access open Earth observation training data\n",
        "**Assessment One**"
      ]
    },
    {
      "cell_type": "markdown",
      "metadata": {
        "id": "CUZ3MrWLu7wg"
      },
      "source": [
        "## Introduction\n",
        "In this notebook, you will follow steps to download geospatial training data from [Radiant MLHub](https://www.radiant.earth/mlhub/)."
      ]
    },
    {
      "cell_type": "markdown",
      "metadata": {
        "id": "HC_qtPrxnsew"
      },
      "source": [
        "## Enter required data"
      ]
    },
    {
      "cell_type": "code",
      "metadata": {
        "id": "AOtHt7ftuCTj"
      },
      "source": [
        "# Copy and paste the access token from http://dashboard.mlhub.earth/\n",
        "ACCESS_TOKEN = ''\n",
        "collectionId = 'ref_african_crops_uganda_01' # Collection ID for Dalberg Data Insights Crop Type Uganda\n",
        "\n",
        "# Set limit to number between 1 and 10000\n",
        "limit = 1000\n",
        "\n",
        "# Enter name of folder where your want to save your data\n",
        "folder_name = ''\n",
        "\n",
        "# Get AWS_ACCESS_KEY_ID and AWS_SECRET_KEY from AWS\n",
        "AWS_ACCESS_KEY_ID = ''\n",
        "AWS_SECRET_KEY = ''"
      ],
      "execution_count": null,
      "outputs": []
    },
    {
      "cell_type": "markdown",
      "metadata": {
        "id": "01YqwKMBuCTo"
      },
      "source": [
        "## Authentication"
      ]
    },
    {
      "cell_type": "code",
      "metadata": {
        "id": "RL7gF-oRtaBM"
      },
      "source": [
        "# only the requests module is required to access the API\n",
        "import requests\n",
        "\n",
        "headers = {\n",
        "    'Authorization': f'Bearer {ACCESS_TOKEN}',\n",
        "    'Accept':'application/json'\n",
        "}"
      ],
      "execution_count": null,
      "outputs": []
    },
    {
      "cell_type": "markdown",
      "metadata": {
        "id": "txVObiJauCTt"
      },
      "source": [
        "## Parameters"
      ]
    },
    {
      "cell_type": "code",
      "metadata": {
        "id": "Z_3SU3SQuCTt"
      },
      "source": [
        "\n",
        "# use these optional parameters to control what items are returned. maximum limit is 10000\n",
        "limit = 10\n",
        "bounding_box = []\n",
        "date_time = []\n",
        "\n",
        "# retrieves the items and their metadata in the collection\n",
        "r = requests.get(f'https://api.radiant.earth/mlhub/v1/collections/{collectionId}/items', params={'limit':limit, 'bbox':bounding_box,'datetime':date_time},headers=headers)\n",
        "collection = r.json()"
      ],
      "execution_count": null,
      "outputs": []
    },
    {
      "cell_type": "markdown",
      "metadata": {
        "id": "E0aDtQBxo0T-"
      },
      "source": [
        "## Functions to download the labels and images"
      ]
    },
    {
      "cell_type": "code",
      "metadata": {
        "id": "Nw5UxWZjt0lk"
      },
      "source": [
        "import boto3 # Required to download assets hosted on S3 \n",
        "import os \n",
        "from urllib.parse import urlparse\n",
        "\n",
        "\n",
        "\n",
        "s3 = boto3.client('s3', aws_access_key_id=AWS_ACCESS_KEY_ID, aws_secret_access_key=AWS_SECRET_KEY)\n",
        "\n",
        "def download_s3(uri, folder_name):\n",
        "    \n",
        "    parsed_url = urlparse(uri)    \n",
        "    bucket = parsed_url.hostname.split('.')[0]       \n",
        "    path = parsed_url.path[1:]  \n",
        "    \n",
        "    \n",
        "    new_path = os.path.dirname(path)\n",
        "    print(new_path)\n",
        "    comps = new_path.split('/')[4:7]\n",
        "    dates = (f'{comps[0]}-{comps[1]}-{comps[2]}')\n",
        "    \n",
        "    #local_path = f'{folder_name}/{new_path}'\n",
        "    local_path = f'{folder_name}/images/{dates}'\n",
        "    \n",
        "    print(local_path)\n",
        "    \n",
        "    \n",
        "    #file_path = os.path.dirname(local_path)\n",
        "    if not os.path.exists(local_path):\n",
        "        os.makedirs(local_path)\n",
        "        \n",
        "    filename = path.split('/')[-1]       \n",
        "    \n",
        "    s3.download_file(bucket, path, f'{local_path}/{filename}', ExtraArgs={'RequestPayer': 'requester'})\n",
        "    print(f'Downloaded s3://{bucket}/{path}')\n",
        "   \n",
        "    \n",
        "def get_download_uri(uri):\n",
        "    r = requests.get(uri, allow_redirects=False)\n",
        "    return r.headers['Location']\n",
        "\n",
        "def download(href, folder_name):\n",
        "    download_uri = get_download_uri(href)\n",
        "    parsed = urlparse(download_uri)\n",
        "    print(download_uri)\n",
        "    \n",
        "    download_s3(download_uri, folder_name)\n",
        " \n",
        "\n",
        "def download_source_and_labels(item, folder_name):\n",
        "    \n",
        "    links = item.get('links')\n",
        "    count = 0\n",
        "    #Download the source imagery\n",
        "    for link in links:\n",
        "        if link['rel'] != 'source':\n",
        "            continue\n",
        "        count += 1\n",
        "        r = requests.get(link['href'], headers=headers)\n",
        "        \n",
        "        for key, asset in r.json()['assets'].items():\n",
        "            download(asset['href'], folder_name)\n",
        "    print(count)\n",
        "            \n",
        "def get_labels(uri, folder_name, classes=None, max_items_downloaded=None, items_downloaded=0):\n",
        "    r = requests.get(uri, headers=headers)\n",
        "    collection = r.json()\n",
        "    \n",
        "    for feature in collection.get('features', []):\n",
        "        labels = feature.get('assets').get('labels')     \n",
        "       \n",
        "        # Download the labels\n",
        "        download(labels['href'],folder_name)\n",
        "        \n",
        "        \n",
        "def get_imagery(uri, folder_name, max_items_downloaded, classes=None, items_downloaded=0):\n",
        "    \n",
        "    r = requests.get(uri, headers=headers)\n",
        "    collection = r.json()    \n",
        "    \n",
        "    \n",
        "    for feature in collection.get('features', []):\n",
        "       \n",
        "        # Download the label and source imagery for the item\n",
        "        download_source_and_labels(feature, folder_name)\n",
        "        \n",
        "        # Stop downloaded items if we reached the maximum we specify\n",
        "        items_downloaded += 1\n",
        "        print(items_downloaded)\n",
        "        if max_items_downloaded is not None and items_downloaded >= max_items_downloaded:\n",
        "            print(\"hereii\")\n",
        "            return      \n",
        "\n",
        "    # Get the next page if results, if available\n",
        "    \n",
        "    print(collection)\n",
        "    print('fini')\n",
        "    for link in collection.get('links', []):\n",
        "        print(\"here\")\n",
        "        print(link)\n",
        "        if link['rel'] == 'next' and link['href'] is not None:\n",
        "            get_items(link['href'], folder_name, classes=classes, max_items_downloaded=max_items_downloaded, \n",
        "                      items_downloaded=items_downloaded)\n",
        "            \n"
      ],
      "execution_count": null,
      "outputs": []
    },
    {
      "cell_type": "markdown",
      "metadata": {
        "id": "xrtpV7R5o_EG"
      },
      "source": [
        "## Download Labels"
      ]
    },
    {
      "cell_type": "code",
      "metadata": {
        "id": "r9yif1CruCT3"
      },
      "source": [
        "get_labels(f'https://api.radiant.earth/mlhub/v1/collections/{collectionId}/items', folder_name, max_items_downloaded=1000)"
      ],
      "execution_count": null,
      "outputs": []
    },
    {
      "cell_type": "markdown",
      "metadata": {
        "id": "gI0fvGWPuCT8"
      },
      "source": [
        "## Download Source Imagery"
      ]
    },
    {
      "cell_type": "code",
      "metadata": {
        "id": "pgCYZP_IvYUu"
      },
      "source": [
        "get_imagery(f'https://api.radiant.earth/mlhub/v1/collections/{collectionId}/items', folder_name, max_items_downloaded=1000)"
      ],
      "execution_count": null,
      "outputs": []
    }
  ]
}